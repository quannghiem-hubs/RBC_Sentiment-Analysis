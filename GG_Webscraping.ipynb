{
  "nbformat": 4,
  "nbformat_minor": 0,
  "metadata": {
    "colab": {
      "provenance": []
    },
    "kernelspec": {
      "name": "python3",
      "display_name": "Python 3"
    },
    "language_info": {
      "name": "python"
    }
  },
  "cells": [
    {
      "cell_type": "code",
      "execution_count": 1,
      "metadata": {
        "colab": {
          "base_uri": "https://localhost:8080/"
        },
        "id": "6Zx19gN95quM",
        "outputId": "518cbfd8-ee32-4c07-d0ff-ab05cce961cd"
      },
      "outputs": [
        {
          "output_type": "stream",
          "name": "stdout",
          "text": [
            "Requirement already satisfied: requests in /usr/local/lib/python3.11/dist-packages (2.32.3)\n",
            "Requirement already satisfied: pandas in /usr/local/lib/python3.11/dist-packages (2.2.2)\n",
            "Requirement already satisfied: geopy in /usr/local/lib/python3.11/dist-packages (2.4.1)\n",
            "Requirement already satisfied: charset-normalizer<4,>=2 in /usr/local/lib/python3.11/dist-packages (from requests) (3.4.1)\n",
            "Requirement already satisfied: idna<4,>=2.5 in /usr/local/lib/python3.11/dist-packages (from requests) (3.10)\n",
            "Requirement already satisfied: urllib3<3,>=1.21.1 in /usr/local/lib/python3.11/dist-packages (from requests) (2.3.0)\n",
            "Requirement already satisfied: certifi>=2017.4.17 in /usr/local/lib/python3.11/dist-packages (from requests) (2024.12.14)\n",
            "Requirement already satisfied: numpy>=1.23.2 in /usr/local/lib/python3.11/dist-packages (from pandas) (1.26.4)\n",
            "Requirement already satisfied: python-dateutil>=2.8.2 in /usr/local/lib/python3.11/dist-packages (from pandas) (2.8.2)\n",
            "Requirement already satisfied: pytz>=2020.1 in /usr/local/lib/python3.11/dist-packages (from pandas) (2024.2)\n",
            "Requirement already satisfied: tzdata>=2022.7 in /usr/local/lib/python3.11/dist-packages (from pandas) (2025.1)\n",
            "Requirement already satisfied: geographiclib<3,>=1.52 in /usr/local/lib/python3.11/dist-packages (from geopy) (2.0)\n",
            "Requirement already satisfied: six>=1.5 in /usr/local/lib/python3.11/dist-packages (from python-dateutil>=2.8.2->pandas) (1.17.0)\n"
          ]
        }
      ],
      "source": [
        "pip install requests pandas geopy"
      ]
    },
    {
      "cell_type": "code",
      "source": [
        "import requests\n",
        "import pandas as pd"
      ],
      "metadata": {
        "id": "CLYcEttn5tgB"
      },
      "execution_count": 2,
      "outputs": []
    },
    {
      "cell_type": "code",
      "source": [
        "api_key = 'YOUR_GOOGLE_MAPS_API_KEY'"
      ],
      "metadata": {
        "id": "kI2uAaH-6B18"
      },
      "execution_count": null,
      "outputs": []
    },
    {
      "cell_type": "code",
      "source": [
        "branches = [\n",
        "    \"200 Bay St. Main Floor, Toronto, ON M5J 2J5\",\n",
        "    \"382 Yonge St, Toronto, ON M5B 1S9\",\n",
        "    \"436 King St W, Toronto, ON M5V 1K3\",\n",
        "    \"130 Adelaide St W, Toronto, ON M5H 2K4\",\n",
        "    \"101 Dundas St W, Toronto, ON M5G 1C4\",\n",
        "    \"480 Dundas St E, Toronto, ON M5A 2C4\",\n",
        "    \"155 Wellington St W, Toronto, ON M5V 3H6\",\n",
        "    \"161 King St E, Toronto, ON M5C 1G9\",\n",
        "    \" 661 University Ave, Toronto, ON M5G 1M1\",\n",
        "    \"88 Queens Quay W, Toronto, ON M5J 0B6\"\n",
        "]\n",
        "\n",
        "for address in branches:\n",
        "    url = f\"https://maps.googleapis.com/maps/api/geocode/json?address={address}&key={api_key}\"\n",
        "    response = requests.get(url)\n",
        "    data = response.json()\n",
        "\n",
        "    if data['results']:\n",
        "        lat = data['results'][0]['geometry']['location']['lat']\n",
        "        lng = data['results'][0]['geometry']['location']['lng']\n",
        "        print(f\"Address: {address} -> Latitude: {lat}, Longitude: {lng}\")\n",
        "    else:\n",
        "        print(f\"Address {address} not found.\")"
      ],
      "metadata": {
        "colab": {
          "base_uri": "https://localhost:8080/"
        },
        "id": "mbA7lyN76VD8",
        "outputId": "d5a358e5-6cfb-4024-87f8-c42bb68c71f4"
      },
      "execution_count": null,
      "outputs": [
        {
          "output_type": "stream",
          "name": "stdout",
          "text": [
            "Address: 200 Bay St. Main Floor, Toronto, ON M5J 2J5 -> Latitude: 43.6486434, Longitude: -79.37902509999999\n",
            "Address: 382 Yonge St, Toronto, ON M5B 1S9 -> Latitude: 43.65942099999999, Longitude: -79.38273629999999\n",
            "Address: 436 King St W, Toronto, ON M5V 1K3 -> Latitude: 43.6457136, Longitude: -79.39442369999999\n",
            "Address: 130 Adelaide St W, Toronto, ON M5H 2K4 -> Latitude: 43.6496814, Longitude: -79.3837757\n",
            "Address: 101 Dundas St W, Toronto, ON M5G 1C4 -> Latitude: 43.6555463, Longitude: -79.3838962\n",
            "Address: 480 Dundas St E, Toronto, ON M5A 2C4 -> Latitude: 43.6600291, Longitude: -79.3649652\n",
            "Address: 155 Wellington St W, Toronto, ON M5V 3H6 -> Latitude: 43.6455947, Longitude: -79.386063\n",
            "Address: 161 King St E, Toronto, ON M5C 1G9 -> Latitude: 43.6501096, Longitude: -79.3721186\n",
            "Address:  661 University Ave, Toronto, ON M5G 1M1 -> Latitude: 43.6594491, Longitude: -79.3892556\n",
            "Address: 88 Queens Quay W, Toronto, ON M5J 0B6 -> Latitude: 43.6410685, Longitude: -79.3779464\n"
          ]
        }
      ]
    },
    {
      "cell_type": "code",
      "source": [
        "location = [\n",
        "    {'name': 'RBC Branch 1','lat':43.6486434, 'lng':-79.37902509999999},\n",
        "    {'name': 'RBC Branch 2','lat':43.65942099999999, 'lng':-79.38273629999999},\n",
        "    {'name': 'RBC Branch 3','lat':43.6457136, 'lng':-79.39442369999999},\n",
        "    {'name': 'RBC Branch 4','lat':43.6496814, 'lng':-79.3837757},\n",
        "    {'name': 'RBC Branch 5','lat':43.6555463, 'lng':79.3838962},\n",
        "    {'name': 'RBC Branch 6','lat':43.6600291, 'lng':-79.3649652},\n",
        "    {'name': 'RBC Branch 7','lat':43.6455947, 'lng':-79.386063},\n",
        "    {'name': 'RBC Branch 8','lat': 43.6501096, 'lng':-79.3721186},\n",
        "    {'name': 'RBC Branch 9','lat':43.6594491, 'lng':-79.3892556},\n",
        "    {'name': 'RBC Branch 10','lat':43.6410685, 'lng':-79.3779464},\n",
        "]\n",
        "\n",
        "url = \"https://maps.googleapis.com/maps/api/place/nearbysearch/json\"\n",
        "\n",
        "def get_reviews(lat, lng, api_key):\n",
        "    params = {\n",
        "        'location': f\"{lat},{lng}\",\n",
        "        'radius': 500,\n",
        "        'type': 'bank',\n",
        "        'key': api_key\n",
        "    }\n",
        "\n",
        "    response = requests.get(url, params=params)\n",
        "    data = response.json()\n",
        "\n",
        "    reviews = []\n",
        "\n",
        "    if 'results' in data:\n",
        "        for place in data['results']:\n",
        "            place_id = place['place_id']\n",
        "            review_url = f\"https://maps.googleapis.com/maps/api/place/details/json?place_id={place_id}&key={api_key}\"\n",
        "            review_response = requests.get(review_url)\n",
        "            review_data = review_response.json()\n",
        "\n",
        "            if 'result' in review_data and 'reviews' in review_data['result']:\n",
        "                for review in review_data['result']['reviews']:\n",
        "                    reviews.append({\n",
        "                        'branch': place['name'],\n",
        "                        'rating': place.get('rating', 'No rating'),\n",
        "                        'review': review['text'],\n",
        "                        'time': review.get('time', 'No time info')\n",
        "                    })\n",
        "\n",
        "    return reviews\n",
        "\n",
        "all_reviews = []\n",
        "\n",
        "for location in location:\n",
        "    reviews = get_reviews(location['lat'], location['lng'], api_key)\n",
        "    all_reviews.extend(reviews)\n",
        "\n",
        "df = pd.DataFrame(all_reviews)"
      ],
      "metadata": {
        "colab": {
          "base_uri": "https://localhost:8080/"
        },
        "id": "kxl6RvPA-Tal",
        "outputId": "8b1fc64c-4da9-4865-fc17-8599be821ad3",
        "collapsed": true
      },
      "execution_count": null,
  
    },
    {
      "cell_type": "markdown",
      "source": [],
      "metadata": {
        "id": "Db6s6yAS73yR"
      }
    },
    {
      "cell_type": "code",
      "source": [
        "df.to_csv('reviews.csv',index=False)"
      ],
      "metadata": {
        "id": "X9Di65ilCPNb"
      },
      "execution_count": null,
      "outputs": []
    },
    {
      "cell_type": "code",
      "source": [],
      "metadata": {
        "id": "OxcE1j8PCv8V"
      },
      "execution_count": null,
      "outputs": []
    }
  ]
}
